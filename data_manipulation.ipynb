{
 "cells": [
  {
   "cell_type": "code",
   "execution_count": 1,
   "metadata": {},
   "outputs": [],
   "source": [
    "import pandas as pd"
   ]
  },
  {
   "cell_type": "code",
   "execution_count": 2,
   "metadata": {},
   "outputs": [],
   "source": [
    "years = [\"2004\", \"2005\", \"2006\", \"2007\",\n",
    "        \"2008\", \"2009\", \"2010\", \"2011\", \"2012\",\n",
    "        \"2013\", \"2014\", \"2015\", \"2016\", \"2017\",\n",
    "        \"2018\", \"2019\", \"2020\"]"
   ]
  },
  {
   "cell_type": "code",
   "execution_count": 3,
   "metadata": {},
   "outputs": [
    {
     "data": {
      "text/plain": [
       "['INMET_S_SC_A806_FLORIANOPOLIS_01-01-2004_A_31-12-2004.CSV',\n",
       " 'INMET_S_SC_A806_FLORIANOPOLIS_01-01-2005_A_31-12-2005.CSV',\n",
       " 'INMET_S_SC_A806_FLORIANOPOLIS_01-01-2006_A_31-12-2006.CSV']"
      ]
     },
     "execution_count": 3,
     "metadata": {},
     "output_type": "execute_result"
    }
   ],
   "source": [
    "file_names = [f\"INMET_S_SC_A806_FLORIANOPOLIS_01-01-{year}_A_31-12-{year}.CSV\" \n",
    "              for year in years]\n",
    "file_names[:3]"
   ]
  },
  {
   "cell_type": "code",
   "execution_count": 45,
   "metadata": {},
   "outputs": [],
   "source": [
    "dfs = [pd.read_csv(\"public/data/\"+file, \n",
    "                   sep=\";\", \n",
    "                   decimal=\",\", \n",
    "                   skiprows=list(range(8)), # as primeiras 8 linhas são cabeçalho\n",
    "                   encoding='latin-1') \n",
    "       for file in file_names]"
   ]
  },
  {
   "cell_type": "code",
   "execution_count": 46,
   "metadata": {},
   "outputs": [
    {
     "data": {
      "text/html": [
       "<div>\n",
       "<style scoped>\n",
       "    .dataframe tbody tr th:only-of-type {\n",
       "        vertical-align: middle;\n",
       "    }\n",
       "\n",
       "    .dataframe tbody tr th {\n",
       "        vertical-align: top;\n",
       "    }\n",
       "\n",
       "    .dataframe thead th {\n",
       "        text-align: right;\n",
       "    }\n",
       "</style>\n",
       "<table border=\"1\" class=\"dataframe\">\n",
       "  <thead>\n",
       "    <tr style=\"text-align: right;\">\n",
       "      <th></th>\n",
       "      <th>Data</th>\n",
       "      <th>Hora UTC</th>\n",
       "      <th>PRECIPITAÇÃO TOTAL, HORÁRIO (mm)</th>\n",
       "      <th>PRESSAO ATMOSFERICA AO NIVEL DA ESTACAO, HORARIA (mB)</th>\n",
       "      <th>PRESSÃO ATMOSFERICA MAX.NA HORA ANT. (AUT) (mB)</th>\n",
       "      <th>PRESSÃO ATMOSFERICA MIN. NA HORA ANT. (AUT) (mB)</th>\n",
       "      <th>RADIACAO GLOBAL (Kj/m²)</th>\n",
       "      <th>TEMPERATURA DO AR - BULBO SECO, HORARIA (°C)</th>\n",
       "      <th>TEMPERATURA DO PONTO DE ORVALHO (°C)</th>\n",
       "      <th>TEMPERATURA MÁXIMA NA HORA ANT. (AUT) (°C)</th>\n",
       "      <th>TEMPERATURA MÍNIMA NA HORA ANT. (AUT) (°C)</th>\n",
       "      <th>TEMPERATURA ORVALHO MAX. NA HORA ANT. (AUT) (°C)</th>\n",
       "      <th>TEMPERATURA ORVALHO MIN. NA HORA ANT. (AUT) (°C)</th>\n",
       "      <th>UMIDADE REL. MAX. NA HORA ANT. (AUT) (%)</th>\n",
       "      <th>UMIDADE REL. MIN. NA HORA ANT. (AUT) (%)</th>\n",
       "      <th>UMIDADE RELATIVA DO AR, HORARIA (%)</th>\n",
       "      <th>VENTO, DIREÇÃO HORARIA (gr) (° (gr))</th>\n",
       "      <th>VENTO, RAJADA MAXIMA (m/s)</th>\n",
       "      <th>VENTO, VELOCIDADE HORARIA (m/s)</th>\n",
       "      <th>Unnamed: 19</th>\n",
       "    </tr>\n",
       "  </thead>\n",
       "  <tbody>\n",
       "    <tr>\n",
       "      <th>0</th>\n",
       "      <td>2020/01/01</td>\n",
       "      <td>0000 UTC</td>\n",
       "      <td>0.0</td>\n",
       "      <td>1008.5</td>\n",
       "      <td>1008.7</td>\n",
       "      <td>1007.7</td>\n",
       "      <td>NaN</td>\n",
       "      <td>26.3</td>\n",
       "      <td>21.6</td>\n",
       "      <td>26.6</td>\n",
       "      <td>26.3</td>\n",
       "      <td>21.9</td>\n",
       "      <td>21.3</td>\n",
       "      <td>77.0</td>\n",
       "      <td>73.0</td>\n",
       "      <td>75.0</td>\n",
       "      <td>351.0</td>\n",
       "      <td>6.1</td>\n",
       "      <td>3.1</td>\n",
       "      <td>NaN</td>\n",
       "    </tr>\n",
       "    <tr>\n",
       "      <th>1</th>\n",
       "      <td>2020/01/01</td>\n",
       "      <td>0100 UTC</td>\n",
       "      <td>0.0</td>\n",
       "      <td>1009.3</td>\n",
       "      <td>1009.5</td>\n",
       "      <td>1008.5</td>\n",
       "      <td>NaN</td>\n",
       "      <td>26.5</td>\n",
       "      <td>21.5</td>\n",
       "      <td>26.5</td>\n",
       "      <td>26.3</td>\n",
       "      <td>21.8</td>\n",
       "      <td>21.5</td>\n",
       "      <td>76.0</td>\n",
       "      <td>74.0</td>\n",
       "      <td>74.0</td>\n",
       "      <td>353.0</td>\n",
       "      <td>6.1</td>\n",
       "      <td>2.0</td>\n",
       "      <td>NaN</td>\n",
       "    </tr>\n",
       "  </tbody>\n",
       "</table>\n",
       "</div>"
      ],
      "text/plain": [
       "         Data  Hora UTC  PRECIPITAÇÃO TOTAL, HORÁRIO (mm)  \\\n",
       "0  2020/01/01  0000 UTC                               0.0   \n",
       "1  2020/01/01  0100 UTC                               0.0   \n",
       "\n",
       "   PRESSAO ATMOSFERICA AO NIVEL DA ESTACAO, HORARIA (mB)  \\\n",
       "0                                             1008.5       \n",
       "1                                             1009.3       \n",
       "\n",
       "   PRESSÃO ATMOSFERICA MAX.NA HORA ANT. (AUT) (mB)  \\\n",
       "0                                           1008.7   \n",
       "1                                           1009.5   \n",
       "\n",
       "   PRESSÃO ATMOSFERICA MIN. NA HORA ANT. (AUT) (mB)  RADIACAO GLOBAL (Kj/m²)  \\\n",
       "0                                            1007.7                      NaN   \n",
       "1                                            1008.5                      NaN   \n",
       "\n",
       "   TEMPERATURA DO AR - BULBO SECO, HORARIA (°C)  \\\n",
       "0                                          26.3   \n",
       "1                                          26.5   \n",
       "\n",
       "   TEMPERATURA DO PONTO DE ORVALHO (°C)  \\\n",
       "0                                  21.6   \n",
       "1                                  21.5   \n",
       "\n",
       "   TEMPERATURA MÁXIMA NA HORA ANT. (AUT) (°C)  \\\n",
       "0                                        26.6   \n",
       "1                                        26.5   \n",
       "\n",
       "   TEMPERATURA MÍNIMA NA HORA ANT. (AUT) (°C)  \\\n",
       "0                                        26.3   \n",
       "1                                        26.3   \n",
       "\n",
       "   TEMPERATURA ORVALHO MAX. NA HORA ANT. (AUT) (°C)  \\\n",
       "0                                              21.9   \n",
       "1                                              21.8   \n",
       "\n",
       "   TEMPERATURA ORVALHO MIN. NA HORA ANT. (AUT) (°C)  \\\n",
       "0                                              21.3   \n",
       "1                                              21.5   \n",
       "\n",
       "   UMIDADE REL. MAX. NA HORA ANT. (AUT) (%)  \\\n",
       "0                                      77.0   \n",
       "1                                      76.0   \n",
       "\n",
       "   UMIDADE REL. MIN. NA HORA ANT. (AUT) (%)  \\\n",
       "0                                      73.0   \n",
       "1                                      74.0   \n",
       "\n",
       "   UMIDADE RELATIVA DO AR, HORARIA (%)  VENTO, DIREÇÃO HORARIA (gr) (° (gr))  \\\n",
       "0                                 75.0                                 351.0   \n",
       "1                                 74.0                                 353.0   \n",
       "\n",
       "   VENTO, RAJADA MAXIMA (m/s)  VENTO, VELOCIDADE HORARIA (m/s)  Unnamed: 19  \n",
       "0                         6.1                              3.1          NaN  \n",
       "1                         6.1                              2.0          NaN  "
      ]
     },
     "execution_count": 46,
     "metadata": {},
     "output_type": "execute_result"
    }
   ],
   "source": [
    "dfs[-1].head(2)"
   ]
  },
  {
   "cell_type": "markdown",
   "metadata": {},
   "source": [
    "Será que todos dfs tem a mesma quantidade de colunas?\n",
    "\n",
    "Graças a deus sim. "
   ]
  },
  {
   "cell_type": "code",
   "execution_count": 47,
   "metadata": {},
   "outputs": [
    {
     "name": "stdout",
     "output_type": "stream",
     "text": [
      "O df de 2004 tem 20 colunas.\n",
      "O df de 2005 tem 20 colunas.\n",
      "O df de 2006 tem 20 colunas.\n",
      "O df de 2007 tem 20 colunas.\n",
      "O df de 2008 tem 20 colunas.\n",
      "O df de 2009 tem 20 colunas.\n",
      "O df de 2010 tem 20 colunas.\n",
      "O df de 2011 tem 20 colunas.\n",
      "O df de 2012 tem 20 colunas.\n",
      "O df de 2013 tem 20 colunas.\n",
      "O df de 2014 tem 20 colunas.\n",
      "O df de 2015 tem 20 colunas.\n",
      "O df de 2016 tem 20 colunas.\n",
      "O df de 2017 tem 20 colunas.\n",
      "O df de 2018 tem 20 colunas.\n",
      "O df de 2019 tem 20 colunas.\n",
      "O df de 2020 tem 20 colunas.\n"
     ]
    }
   ],
   "source": [
    "for df, year in zip(dfs, years):\n",
    "    print(f'O df de {year} tem {df.shape[1]} colunas.')"
   ]
  },
  {
   "cell_type": "markdown",
   "metadata": {},
   "source": [
    "Será que todas as colunas possuem o mesmo nome?\n",
    "\n",
    "Veja que o nome da coluna que informa a data do df de 2004 é diferente\n",
    "do df de 2020."
   ]
  },
  {
   "cell_type": "code",
   "execution_count": 48,
   "metadata": {},
   "outputs": [
    {
     "data": {
      "text/plain": [
       "{'DATA (YYYY-MM-DD)', 'HORA (UTC)', 'RADIACAO GLOBAL (KJ/m²)'}"
      ]
     },
     "execution_count": 48,
     "metadata": {},
     "output_type": "execute_result"
    }
   ],
   "source": [
    "set(dfs[0].columns).difference(set(dfs[-1].columns))"
   ]
  },
  {
   "cell_type": "markdown",
   "metadata": {},
   "source": [
    "Vamos deixar todas as colunas com os mesmos nomes do df de 2020"
   ]
  },
  {
   "cell_type": "code",
   "execution_count": 49,
   "metadata": {},
   "outputs": [],
   "source": [
    "cols_2020 = list(dfs[-1].columns)\n",
    "for i, _ in enumerate(dfs):\n",
    "    dfs[i].columns = cols_2020;"
   ]
  },
  {
   "cell_type": "markdown",
   "metadata": {},
   "source": [
    "Conferindo se eliminamos as diferenças:"
   ]
  },
  {
   "cell_type": "code",
   "execution_count": 50,
   "metadata": {},
   "outputs": [
    {
     "data": {
      "text/plain": [
       "set()"
      ]
     },
     "execution_count": 50,
     "metadata": {},
     "output_type": "execute_result"
    }
   ],
   "source": [
    "set(dfs[0].columns).difference(set(dfs[-1].columns))"
   ]
  },
  {
   "cell_type": "markdown",
   "metadata": {},
   "source": [
    "Bora dar uma olhada nos nomes das colunas para identificar as que queremos:"
   ]
  },
  {
   "cell_type": "code",
   "execution_count": 51,
   "metadata": {},
   "outputs": [
    {
     "data": {
      "text/plain": [
       "['Data',\n",
       " 'Hora UTC',\n",
       " 'PRECIPITAÇÃO TOTAL, HORÁRIO (mm)',\n",
       " 'PRESSAO ATMOSFERICA AO NIVEL DA ESTACAO, HORARIA (mB)',\n",
       " 'PRESSÃO ATMOSFERICA MAX.NA HORA ANT. (AUT) (mB)',\n",
       " 'PRESSÃO ATMOSFERICA MIN. NA HORA ANT. (AUT) (mB)',\n",
       " 'RADIACAO GLOBAL (Kj/m²)',\n",
       " 'TEMPERATURA DO AR - BULBO SECO, HORARIA (°C)',\n",
       " 'TEMPERATURA DO PONTO DE ORVALHO (°C)',\n",
       " 'TEMPERATURA MÁXIMA NA HORA ANT. (AUT) (°C)',\n",
       " 'TEMPERATURA MÍNIMA NA HORA ANT. (AUT) (°C)',\n",
       " 'TEMPERATURA ORVALHO MAX. NA HORA ANT. (AUT) (°C)',\n",
       " 'TEMPERATURA ORVALHO MIN. NA HORA ANT. (AUT) (°C)',\n",
       " 'UMIDADE REL. MAX. NA HORA ANT. (AUT) (%)',\n",
       " 'UMIDADE REL. MIN. NA HORA ANT. (AUT) (%)',\n",
       " 'UMIDADE RELATIVA DO AR, HORARIA (%)',\n",
       " 'VENTO, DIREÇÃO HORARIA (gr) (° (gr))',\n",
       " 'VENTO, RAJADA MAXIMA (m/s)',\n",
       " 'VENTO, VELOCIDADE HORARIA (m/s)',\n",
       " 'Unnamed: 19']"
      ]
     },
     "execution_count": 51,
     "metadata": {},
     "output_type": "execute_result"
    }
   ],
   "source": [
    "cols_2020"
   ]
  },
  {
   "cell_type": "markdown",
   "metadata": {},
   "source": [
    "As colunas que nos interassam são:"
   ]
  },
  {
   "cell_type": "code",
   "execution_count": 121,
   "metadata": {},
   "outputs": [],
   "source": [
    "cols = [\"Data\", 'TEMPERATURA DO AR - BULBO SECO, HORARIA (°C)']"
   ]
  },
  {
   "cell_type": "markdown",
   "metadata": {},
   "source": [
    "Vamos remover as outras colunas que não nos interessam:"
   ]
  },
  {
   "cell_type": "code",
   "execution_count": 122,
   "metadata": {},
   "outputs": [],
   "source": [
    "for i, df in enumerate(dfs):\n",
    "    for col in df.columns:\n",
    "        if col not in cols:\n",
    "            dfs[i].drop(col,\n",
    "                        axis='columns', \n",
    "                        inplace=True)"
   ]
  },
  {
   "cell_type": "markdown",
   "metadata": {},
   "source": [
    "Vamos concatenar todos os dfs:"
   ]
  },
  {
   "cell_type": "code",
   "execution_count": 123,
   "metadata": {},
   "outputs": [
    {
     "data": {
      "text/plain": [
       "(149040, 2)"
      ]
     },
     "execution_count": 123,
     "metadata": {},
     "output_type": "execute_result"
    }
   ],
   "source": [
    "df1 = pd.concat(dfs, ignore_index=True)\n",
    "df1.shape"
   ]
  },
  {
   "cell_type": "code",
   "execution_count": 124,
   "metadata": {},
   "outputs": [
    {
     "data": {
      "text/html": [
       "<div>\n",
       "<style scoped>\n",
       "    .dataframe tbody tr th:only-of-type {\n",
       "        vertical-align: middle;\n",
       "    }\n",
       "\n",
       "    .dataframe tbody tr th {\n",
       "        vertical-align: top;\n",
       "    }\n",
       "\n",
       "    .dataframe thead th {\n",
       "        text-align: right;\n",
       "    }\n",
       "</style>\n",
       "<table border=\"1\" class=\"dataframe\">\n",
       "  <thead>\n",
       "    <tr style=\"text-align: right;\">\n",
       "      <th></th>\n",
       "      <th>Data</th>\n",
       "      <th>TEMPERATURA DO AR - BULBO SECO, HORARIA (°C)</th>\n",
       "    </tr>\n",
       "  </thead>\n",
       "  <tbody>\n",
       "    <tr>\n",
       "      <th>0</th>\n",
       "      <td>2004-01-01</td>\n",
       "      <td>22.1</td>\n",
       "    </tr>\n",
       "    <tr>\n",
       "      <th>1</th>\n",
       "      <td>2004-01-01</td>\n",
       "      <td>21.4</td>\n",
       "    </tr>\n",
       "    <tr>\n",
       "      <th>2</th>\n",
       "      <td>2004-01-01</td>\n",
       "      <td>21.2</td>\n",
       "    </tr>\n",
       "    <tr>\n",
       "      <th>3</th>\n",
       "      <td>2004-01-01</td>\n",
       "      <td>20.6</td>\n",
       "    </tr>\n",
       "    <tr>\n",
       "      <th>4</th>\n",
       "      <td>2004-01-01</td>\n",
       "      <td>20.1</td>\n",
       "    </tr>\n",
       "  </tbody>\n",
       "</table>\n",
       "</div>"
      ],
      "text/plain": [
       "         Data  TEMPERATURA DO AR - BULBO SECO, HORARIA (°C)\n",
       "0  2004-01-01                                          22.1\n",
       "1  2004-01-01                                          21.4\n",
       "2  2004-01-01                                          21.2\n",
       "3  2004-01-01                                          20.6\n",
       "4  2004-01-01                                          20.1"
      ]
     },
     "execution_count": 124,
     "metadata": {},
     "output_type": "execute_result"
    }
   ],
   "source": [
    "df1.head()"
   ]
  },
  {
   "cell_type": "markdown",
   "metadata": {},
   "source": [
    "Vamos renomear as colunas:"
   ]
  },
  {
   "cell_type": "code",
   "execution_count": 125,
   "metadata": {},
   "outputs": [],
   "source": [
    "df1.columns = [\"date\", \"temperature\"]"
   ]
  },
  {
   "cell_type": "code",
   "execution_count": 126,
   "metadata": {},
   "outputs": [
    {
     "data": {
      "text/html": [
       "<div>\n",
       "<style scoped>\n",
       "    .dataframe tbody tr th:only-of-type {\n",
       "        vertical-align: middle;\n",
       "    }\n",
       "\n",
       "    .dataframe tbody tr th {\n",
       "        vertical-align: top;\n",
       "    }\n",
       "\n",
       "    .dataframe thead th {\n",
       "        text-align: right;\n",
       "    }\n",
       "</style>\n",
       "<table border=\"1\" class=\"dataframe\">\n",
       "  <thead>\n",
       "    <tr style=\"text-align: right;\">\n",
       "      <th></th>\n",
       "      <th>date</th>\n",
       "      <th>temperature</th>\n",
       "    </tr>\n",
       "  </thead>\n",
       "  <tbody>\n",
       "    <tr>\n",
       "      <th>0</th>\n",
       "      <td>2004-01-01</td>\n",
       "      <td>22.1</td>\n",
       "    </tr>\n",
       "    <tr>\n",
       "      <th>1</th>\n",
       "      <td>2004-01-01</td>\n",
       "      <td>21.4</td>\n",
       "    </tr>\n",
       "    <tr>\n",
       "      <th>2</th>\n",
       "      <td>2004-01-01</td>\n",
       "      <td>21.2</td>\n",
       "    </tr>\n",
       "    <tr>\n",
       "      <th>3</th>\n",
       "      <td>2004-01-01</td>\n",
       "      <td>20.6</td>\n",
       "    </tr>\n",
       "    <tr>\n",
       "      <th>4</th>\n",
       "      <td>2004-01-01</td>\n",
       "      <td>20.1</td>\n",
       "    </tr>\n",
       "  </tbody>\n",
       "</table>\n",
       "</div>"
      ],
      "text/plain": [
       "         date  temperature\n",
       "0  2004-01-01         22.1\n",
       "1  2004-01-01         21.4\n",
       "2  2004-01-01         21.2\n",
       "3  2004-01-01         20.6\n",
       "4  2004-01-01         20.1"
      ]
     },
     "execution_count": 126,
     "metadata": {},
     "output_type": "execute_result"
    }
   ],
   "source": [
    "df1.head()"
   ]
  },
  {
   "cell_type": "markdown",
   "metadata": {},
   "source": [
    "Parece que -9999.0 é usado para representar dados faltantes. "
   ]
  },
  {
   "cell_type": "code",
   "execution_count": 127,
   "metadata": {},
   "outputs": [
    {
     "data": {
      "text/html": [
       "<div>\n",
       "<style scoped>\n",
       "    .dataframe tbody tr th:only-of-type {\n",
       "        vertical-align: middle;\n",
       "    }\n",
       "\n",
       "    .dataframe tbody tr th {\n",
       "        vertical-align: top;\n",
       "    }\n",
       "\n",
       "    .dataframe thead th {\n",
       "        text-align: right;\n",
       "    }\n",
       "</style>\n",
       "<table border=\"1\" class=\"dataframe\">\n",
       "  <thead>\n",
       "    <tr style=\"text-align: right;\">\n",
       "      <th></th>\n",
       "      <th>date</th>\n",
       "      <th>temperature</th>\n",
       "    </tr>\n",
       "  </thead>\n",
       "  <tbody>\n",
       "    <tr>\n",
       "      <th>263</th>\n",
       "      <td>2004-01-11</td>\n",
       "      <td>-9999.0</td>\n",
       "    </tr>\n",
       "    <tr>\n",
       "      <th>552</th>\n",
       "      <td>2004-01-24</td>\n",
       "      <td>-9999.0</td>\n",
       "    </tr>\n",
       "    <tr>\n",
       "      <th>648</th>\n",
       "      <td>2004-01-28</td>\n",
       "      <td>-9999.0</td>\n",
       "    </tr>\n",
       "    <tr>\n",
       "      <th>1055</th>\n",
       "      <td>2004-02-13</td>\n",
       "      <td>-9999.0</td>\n",
       "    </tr>\n",
       "    <tr>\n",
       "      <th>1136</th>\n",
       "      <td>2004-02-17</td>\n",
       "      <td>-9999.0</td>\n",
       "    </tr>\n",
       "  </tbody>\n",
       "</table>\n",
       "</div>"
      ],
      "text/plain": [
       "            date  temperature\n",
       "263   2004-01-11      -9999.0\n",
       "552   2004-01-24      -9999.0\n",
       "648   2004-01-28      -9999.0\n",
       "1055  2004-02-13      -9999.0\n",
       "1136  2004-02-17      -9999.0"
      ]
     },
     "execution_count": 127,
     "metadata": {},
     "output_type": "execute_result"
    }
   ],
   "source": [
    "df1[df1[\"temperature\"] == -9999.0].head()"
   ]
  },
  {
   "cell_type": "markdown",
   "metadata": {},
   "source": [
    "Vamos tratar os dados faltantes da seguinte forma:\n",
    "\n",
    "* se houver pelo menos duas medições de temperatura para o dia em questão, iremos associar a temperatura média destas medições aos valores faltantes do dia em questão.\n",
    "\n",
    "* caso a condição anterior não seja satisfeita, substituiremos pela média da temperatura para o mesmo dia só que de todos os outros anos."
   ]
  },
  {
   "cell_type": "code",
   "execution_count": 133,
   "metadata": {},
   "outputs": [],
   "source": [
    "def measures_for_same_day(df, col, day):\n",
    "    return df[(df[col] != -9999.0) & (df.date==day)][col].tolist()\n",
    "\n",
    "def measures_for_same_day_other_yrs(df, col, day):\n",
    "    corrent_year, month, day = day.split(\"-\")\n",
    "    dates = [f\"{y}/{month}/{day}\" for y in years if y!=corrent_year]\n",
    "    return df[(df.date.isin(dates)) & (df[col] != -9999.0)][col].tolist()\n",
    "\n",
    "def value_for_col(df, col, day):\n",
    "    res = measures_for_same_day(df, \n",
    "                            col,\n",
    "                            day)\n",
    "    if not res:\n",
    "        res = measures_for_same_day_other_yrs(df, \n",
    "                    col,\n",
    "                    day)\n",
    "        \n",
    "    return sum(res)/len(res)"
   ]
  },
  {
   "cell_type": "code",
   "execution_count": 134,
   "metadata": {},
   "outputs": [],
   "source": [
    "def fill_missing_values(df):\n",
    "    updated_days = {}\n",
    "    cols = df.columns[1:]\n",
    "    new_df = df.copy()\n",
    "    for index, row in new_df.iterrows():\n",
    "        for col in cols:\n",
    "            if (row[\"date\"] in updated_days.keys() and\n",
    "            col in updated_days[row[\"date\"]].keys()):\n",
    "                new_df.at[index, col] = updated_days[row[\"date\"]][col]\n",
    "            elif row[col] == -9999.0:\n",
    "                day_mean = value_for_col(new_df, col, row[\"date\"])\n",
    "                new_df.at[index, col] = day_mean \n",
    "                register = updated_days.get(row[\"date\"])\n",
    "                if register:\n",
    "                    register[col] = day_mean\n",
    "                else:\n",
    "                    register = {col: day_mean}\n",
    "                    \n",
    "                updated_days[row[\"date\"]] = register\n",
    "    return new_df"
   ]
  },
  {
   "cell_type": "code",
   "execution_count": 135,
   "metadata": {},
   "outputs": [],
   "source": [
    "df2 = fill_missing_values(df1)"
   ]
  },
  {
   "cell_type": "markdown",
   "metadata": {},
   "source": [
    "Conferindo se deu certo:"
   ]
  },
  {
   "cell_type": "code",
   "execution_count": 136,
   "metadata": {},
   "outputs": [
    {
     "data": {
      "text/html": [
       "<div>\n",
       "<style scoped>\n",
       "    .dataframe tbody tr th:only-of-type {\n",
       "        vertical-align: middle;\n",
       "    }\n",
       "\n",
       "    .dataframe tbody tr th {\n",
       "        vertical-align: top;\n",
       "    }\n",
       "\n",
       "    .dataframe thead th {\n",
       "        text-align: right;\n",
       "    }\n",
       "</style>\n",
       "<table border=\"1\" class=\"dataframe\">\n",
       "  <thead>\n",
       "    <tr style=\"text-align: right;\">\n",
       "      <th></th>\n",
       "      <th>date</th>\n",
       "      <th>temperature</th>\n",
       "    </tr>\n",
       "  </thead>\n",
       "  <tbody>\n",
       "  </tbody>\n",
       "</table>\n",
       "</div>"
      ],
      "text/plain": [
       "Empty DataFrame\n",
       "Columns: [date, temperature]\n",
       "Index: []"
      ]
     },
     "execution_count": 136,
     "metadata": {},
     "output_type": "execute_result"
    }
   ],
   "source": [
    "df2[(df2[\"temperature\"] == -9999.0)].head()"
   ]
  },
  {
   "cell_type": "markdown",
   "metadata": {},
   "source": [
    "Uma das linhas que tinha dados faltantes era a 263, vamos ver como ficou:"
   ]
  },
  {
   "cell_type": "code",
   "execution_count": 137,
   "metadata": {},
   "outputs": [
    {
     "data": {
      "text/plain": [
       "date           2004-01-11\n",
       "temperature       24.9043\n",
       "Name: 263, dtype: object"
      ]
     },
     "execution_count": 137,
     "metadata": {},
     "output_type": "execute_result"
    }
   ],
   "source": [
    "df2.iloc[263]"
   ]
  },
  {
   "cell_type": "markdown",
   "metadata": {},
   "source": [
    "Conferindo se não perdemos nenhuma linha:"
   ]
  },
  {
   "cell_type": "code",
   "execution_count": 143,
   "metadata": {},
   "outputs": [
    {
     "data": {
      "text/plain": [
       "True"
      ]
     },
     "execution_count": 143,
     "metadata": {},
     "output_type": "execute_result"
    }
   ],
   "source": [
    "df1.shape == df2.shape"
   ]
  },
  {
   "cell_type": "markdown",
   "metadata": {},
   "source": [
    "Como temos temperaturas por horário do dia, vamos associar ao dia sua temperatura média,  máxima e mínima."
   ]
  },
  {
   "cell_type": "code",
   "execution_count": 138,
   "metadata": {},
   "outputs": [
    {
     "data": {
      "text/html": [
       "<div>\n",
       "<style scoped>\n",
       "    .dataframe tbody tr th:only-of-type {\n",
       "        vertical-align: middle;\n",
       "    }\n",
       "\n",
       "    .dataframe tbody tr th {\n",
       "        vertical-align: top;\n",
       "    }\n",
       "\n",
       "    .dataframe thead th {\n",
       "        text-align: right;\n",
       "    }\n",
       "</style>\n",
       "<table border=\"1\" class=\"dataframe\">\n",
       "  <thead>\n",
       "    <tr style=\"text-align: right;\">\n",
       "      <th></th>\n",
       "      <th>date</th>\n",
       "      <th>temperatura_media</th>\n",
       "      <th>temperatura_max</th>\n",
       "      <th>temperatura_min</th>\n",
       "    </tr>\n",
       "  </thead>\n",
       "  <tbody>\n",
       "    <tr>\n",
       "      <th>0</th>\n",
       "      <td>2004-01-01</td>\n",
       "      <td>21.537500</td>\n",
       "      <td>24.1</td>\n",
       "      <td>18.4</td>\n",
       "    </tr>\n",
       "    <tr>\n",
       "      <th>1</th>\n",
       "      <td>2004-01-02</td>\n",
       "      <td>21.662500</td>\n",
       "      <td>25.6</td>\n",
       "      <td>16.7</td>\n",
       "    </tr>\n",
       "    <tr>\n",
       "      <th>2</th>\n",
       "      <td>2004-01-03</td>\n",
       "      <td>22.795833</td>\n",
       "      <td>26.5</td>\n",
       "      <td>18.6</td>\n",
       "    </tr>\n",
       "    <tr>\n",
       "      <th>3</th>\n",
       "      <td>2004-01-04</td>\n",
       "      <td>23.275000</td>\n",
       "      <td>26.6</td>\n",
       "      <td>18.5</td>\n",
       "    </tr>\n",
       "    <tr>\n",
       "      <th>4</th>\n",
       "      <td>2004-01-05</td>\n",
       "      <td>23.733333</td>\n",
       "      <td>27.2</td>\n",
       "      <td>20.3</td>\n",
       "    </tr>\n",
       "  </tbody>\n",
       "</table>\n",
       "</div>"
      ],
      "text/plain": [
       "         date  temperatura_media  temperatura_max  temperatura_min\n",
       "0  2004-01-01          21.537500             24.1             18.4\n",
       "1  2004-01-02          21.662500             25.6             16.7\n",
       "2  2004-01-03          22.795833             26.5             18.6\n",
       "3  2004-01-04          23.275000             26.6             18.5\n",
       "4  2004-01-05          23.733333             27.2             20.3"
      ]
     },
     "execution_count": 138,
     "metadata": {},
     "output_type": "execute_result"
    }
   ],
   "source": [
    "df3 = (df2.groupby('date', as_index=False)\n",
    "       .agg(temperatura_media=('temperature', 'mean'), \n",
    "            temperatura_max=('temperature', 'max'),\n",
    "            temperatura_min=('temperature', 'min')))\n",
    "df3.head()"
   ]
  },
  {
   "cell_type": "code",
   "execution_count": 139,
   "metadata": {},
   "outputs": [
    {
     "data": {
      "text/plain": [
       "(6210, 4)"
      ]
     },
     "execution_count": 139,
     "metadata": {},
     "output_type": "execute_result"
    }
   ],
   "source": [
    "df3.shape"
   ]
  },
  {
   "cell_type": "code",
   "execution_count": 145,
   "metadata": {},
   "outputs": [],
   "source": [
    "df3.to_csv(\"public/data/floripa_temperatures_by_day_2004_a_2020.csv\", index=False)"
   ]
  }
 ],
 "metadata": {
  "kernelspec": {
   "display_name": "Python 3",
   "language": "python",
   "name": "python3"
  },
  "language_info": {
   "codemirror_mode": {
    "name": "ipython",
    "version": 3
   },
   "file_extension": ".py",
   "mimetype": "text/x-python",
   "name": "python",
   "nbconvert_exporter": "python",
   "pygments_lexer": "ipython3",
   "version": "3.6.9"
  }
 },
 "nbformat": 4,
 "nbformat_minor": 4
}
